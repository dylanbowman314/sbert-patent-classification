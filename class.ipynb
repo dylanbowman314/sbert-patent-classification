{
 "cells": [
  {
   "cell_type": "code",
   "execution_count": null,
   "metadata": {},
   "outputs": [],
   "source": []
  }
 ],
 "metadata": {
  "kernelspec": {
   "display_name": "Python 3.8.10 64-bit ('env': venv)",
   "language": "python",
   "name": "python3"
  },
  "language_info": {
   "name": "python",
   "version": "3.8.10"
  },
  "orig_nbformat": 4,
  "vscode": {
   "interpreter": {
    "hash": "d88c74c87f51e8694957b28af56f8f9d57fbf8ebab5eb40d5fd4f68319a3140f"
   }
  }
 },
 "nbformat": 4,
 "nbformat_minor": 2
}
